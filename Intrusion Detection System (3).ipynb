{
 "cells": [
  {
   "cell_type": "markdown",
   "id": "f1b47314-ce45-4e15-8310-1b130ddbe020",
   "metadata": {},
   "source": [
    "# 🔐 Intrusion Detection System Using Hybrid DNN + MLP\n",
    "\n",
    "This project implements an Intrusion Detection System (IDS) using a hybrid deep learning model — combining a Deep Neural Network (DNN) and a Multi-Layer Perceptron (MLP) — trained on the NSL-KDD dataset."
   ]
  },
  {
   "cell_type": "markdown",
   "id": "c07d9f3c-ca8e-40c5-a61a-0f1c973a8fef",
   "metadata": {},
   "source": [
    "## ✅ Step 1: Data Preprocessing\n",
    "\n",
    "### 🧹 Objective:\n",
    "Prepare the raw NSL-KDD dataset for training and testing.\n",
    "\n",
    "### 🧾 Actions Performed:\n",
    "- **Loaded the dataset** (`KDDTrain+.txt` for training and `KDDTest+.txt` for testing) with 41 features and 1 label.\n",
    "- **Dropped the `difficulty` column**, which is not required for modeling.\n",
    "- **Converted labels into binary**:\n",
    "  - `normal` → 0 (benign)\n",
    "  - all attack types → 1 (malicious)\n",
    "- **Encoded categorical features** (`protocol_type`, `service`, `flag`) using `LabelEncoder`.\n",
    "- **Scaled numerical features** using `StandardScaler` to normalize the range and improve convergence.\n",
    "- Final data:\n",
    "  - `X_train_scaled`, `y_train`\n",
    "  - `X_test_scaled`, `y_test`"
   ]
  },
  {
   "cell_type": "code",
   "execution_count": null,
   "id": "d13610b2-6e2b-4ab4-a90a-2c8f05a2341e",
   "metadata": {},
   "outputs": [],
   "source": [
    "# ✅ Core Libraries\n",
    "import pandas as pd\n",
    "import numpy as np\n",
    "import matplotlib.pyplot as plt\n",
    "\n",
    "# ✅ Scikit-learn Tools\n",
    "from sklearn.preprocessing import LabelEncoder, StandardScaler\n",
    "from sklearn.utils import class_weight\n",
    "from sklearn.metrics import classification_report, roc_curve, auc\n",
    "\n",
    "# ✅ Deep Learning - TensorFlow / Keras\n",
    "import tensorflow as tf\n",
    "from tensorflow.keras.models import Model\n",
    "from tensorflow.keras.layers import Input, Dense, Dropout, Concatenate\n",
    "from tensorflow.keras.callbacks import EarlyStopping"
   ]
  },
  {
   "cell_type": "code",
   "execution_count": 5,
   "id": "46b98fae-b454-4666-a596-eee76bb3b8b2",
   "metadata": {},
   "outputs": [],
   "source": [
    "# Define column names based on NSL-KDD specification\n",
    "columns = [\n",
    "    'duration','protocol_type','service','flag','src_bytes','dst_bytes','land',\n",
    "    'wrong_fragment','urgent','hot','num_failed_logins','logged_in','num_compromised',\n",
    "    'root_shell','su_attempted','num_root','num_file_creations','num_shells','num_access_files',\n",
    "    'num_outbound_cmds','is_host_login','is_guest_login','count','srv_count','serror_rate',\n",
    "    'srv_serror_rate','rerror_rate','srv_rerror_rate','same_srv_rate','diff_srv_rate',\n",
    "    'srv_diff_host_rate','dst_host_count','dst_host_srv_count','dst_host_same_srv_rate',\n",
    "    'dst_host_diff_srv_rate','dst_host_same_src_port_rate','dst_host_srv_diff_host_rate',\n",
    "    'dst_host_serror_rate','dst_host_srv_serror_rate','dst_host_rerror_rate',\n",
    "    'dst_host_srv_rerror_rate','label','difficulty'\n",
    "]"
   ]
  },
  {
   "cell_type": "code",
   "execution_count": 6,
   "id": "e4815e6f-9b9f-4b65-a3ff-bbebd2a8f136",
   "metadata": {},
   "outputs": [
    {
     "name": "stdout",
     "output_type": "stream",
     "text": [
      "   duration protocol_type   service flag  src_bytes  dst_bytes  land  \\\n",
      "0         0           tcp  ftp_data   SF        491          0     0   \n",
      "1         0           udp     other   SF        146          0     0   \n",
      "2         0           tcp   private   S0          0          0     0   \n",
      "3         0           tcp      http   SF        232       8153     0   \n",
      "4         0           tcp      http   SF        199        420     0   \n",
      "\n",
      "   wrong_fragment  urgent  hot  ...  dst_host_same_srv_rate  \\\n",
      "0               0       0    0  ...                    0.17   \n",
      "1               0       0    0  ...                    0.00   \n",
      "2               0       0    0  ...                    0.10   \n",
      "3               0       0    0  ...                    1.00   \n",
      "4               0       0    0  ...                    1.00   \n",
      "\n",
      "   dst_host_diff_srv_rate  dst_host_same_src_port_rate  \\\n",
      "0                    0.03                         0.17   \n",
      "1                    0.60                         0.88   \n",
      "2                    0.05                         0.00   \n",
      "3                    0.00                         0.03   \n",
      "4                    0.00                         0.00   \n",
      "\n",
      "   dst_host_srv_diff_host_rate  dst_host_serror_rate  \\\n",
      "0                         0.00                  0.00   \n",
      "1                         0.00                  0.00   \n",
      "2                         0.00                  1.00   \n",
      "3                         0.04                  0.03   \n",
      "4                         0.00                  0.00   \n",
      "\n",
      "   dst_host_srv_serror_rate  dst_host_rerror_rate  dst_host_srv_rerror_rate  \\\n",
      "0                      0.00                  0.05                      0.00   \n",
      "1                      0.00                  0.00                      0.00   \n",
      "2                      1.00                  0.00                      0.00   \n",
      "3                      0.01                  0.00                      0.01   \n",
      "4                      0.00                  0.00                      0.00   \n",
      "\n",
      "     label  difficulty  \n",
      "0   normal          20  \n",
      "1   normal          15  \n",
      "2  neptune          19  \n",
      "3   normal          21  \n",
      "4   normal          21  \n",
      "\n",
      "[5 rows x 43 columns]\n"
     ]
    }
   ],
   "source": [
    "# Load train and test datasets\n",
    "train_df = pd.read_csv(\"C:/Users/archi/OneDrive/Desktop/aiml/archive (1)/KDDTrain+.txt\", names=columns)\n",
    "test_df = pd.read_csv(\"C:/Users/archi/OneDrive/Desktop/aiml/archive (1)/KDDTest+.txt\", names=columns)\n",
    "\n",
    "# Preview\n",
    "print(train_df.head())\n"
   ]
  },
  {
   "cell_type": "code",
   "execution_count": 7,
   "id": "42b9aeb5-f9be-47b5-a7ab-a924ea70783a",
   "metadata": {},
   "outputs": [],
   "source": [
    "train_df.drop('difficulty', axis=1, inplace=True)\n",
    "test_df.drop('difficulty', axis=1, inplace=True)"
   ]
  },
  {
   "cell_type": "code",
   "execution_count": 8,
   "id": "d7211d4a-a49f-420b-9cef-f00e6a26ecb6",
   "metadata": {},
   "outputs": [],
   "source": [
    "# Binary label conversion\n",
    "def binary_label(label):\n",
    "    return 0 if label == 'normal' else 1\n",
    "\n",
    "train_df['label'] = train_df['label'].apply(binary_label)\n",
    "test_df['label'] = test_df['label'].apply(binary_label)"
   ]
  },
  {
   "cell_type": "code",
   "execution_count": 9,
   "id": "f1083eaa-2e42-402d-b97b-8e884ac94171",
   "metadata": {},
   "outputs": [],
   "source": [
    "categorical_cols = ['protocol_type', 'service', 'flag']\n",
    "\n",
    "encoder = LabelEncoder()\n",
    "for col in categorical_cols:\n",
    "    train_df[col] = encoder.fit_transform(train_df[col])\n",
    "    test_df[col] = encoder.transform(test_df[col])  # same encoder to avoid mismatch"
   ]
  },
  {
   "cell_type": "code",
   "execution_count": 10,
   "id": "38b099e3-c502-4187-af6a-c8cc925825fe",
   "metadata": {},
   "outputs": [],
   "source": [
    "X_train = train_df.drop('label', axis=1)\n",
    "y_train = train_df['label']\n",
    "\n",
    "X_test = test_df.drop('label', axis=1)\n",
    "y_test = test_df['label']\n",
    "\n",
    "scaler = StandardScaler()\n",
    "X_train_scaled = scaler.fit_transform(X_train)\n",
    "X_test_scaled = scaler.transform(X_test)"
   ]
  },
  {
   "cell_type": "markdown",
   "id": "574fe954-67b8-4808-bfd6-e3265981d2bc",
   "metadata": {},
   "source": [
    "## ✅ Step 2: Build the Hybrid DNN + MLP Model\n",
    "\n",
    "### 🧠 Objective:\n",
    "Design and compile a model capable of capturing both high-level and mid-level patterns in the data.\n",
    "\n",
    "### 🧾 Model Structure:\n",
    "- **Input Layer**: 41 features\n",
    "- **Branch 1 – DNN**:\n",
    "  - Dense(128, ReLU) → Dense(64, ReLU)\n",
    "- **Branch 2 – MLP**:\n",
    "  - Dense(64, ReLU) → Dense(32, ReLU)\n",
    "- **Concatenation**: Merges DNN and MLP outputs\n",
    "- **Output Layer**: Dense(1, Sigmoid) for binary classification\n",
    "\n",
    "### ⚙️ Compilation:\n",
    "- Optimizer: `Adam`\n",
    "- Loss Function: `Binary Crossentropy`\n",
    "- Metrics: `Accuracy`"
   ]
  },
  {
   "cell_type": "code",
   "execution_count": 11,
   "id": "f014560f-e35d-4198-95c7-ac706cbc220b",
   "metadata": {},
   "outputs": [],
   "source": [
    "# Input layer (shape = number of features)\n",
    "input_layer = Input(shape=(X_train_scaled.shape[1],))"
   ]
  },
  {
   "cell_type": "code",
   "execution_count": 12,
   "id": "00cf2edd-c7a1-4717-a22a-cde25f4e295e",
   "metadata": {},
   "outputs": [],
   "source": [
    "# Branch 1: Deep Neural Network (DNN)\n",
    "dnn = Dense(128, activation='relu')(input_layer)\n",
    "dnn = Dense(64, activation='relu')(dnn)\n",
    "\n",
    "# Branch 2: Multi-Layer Perceptron (MLP)\n",
    "mlp = Dense(64, activation='relu')(input_layer)\n",
    "mlp = Dense(32, activation='relu')(mlp)"
   ]
  },
  {
   "cell_type": "code",
   "execution_count": 13,
   "id": "555dfc30-f746-4a55-9c14-0d70feadb706",
   "metadata": {},
   "outputs": [],
   "source": [
    "# Merge branches\n",
    "merged = Concatenate()([dnn, mlp])"
   ]
  },
  {
   "cell_type": "code",
   "execution_count": 14,
   "id": "e99884c1-ca29-4ceb-b43a-c65a46311f4a",
   "metadata": {},
   "outputs": [],
   "source": [
    "# Output layer for binary classification\n",
    "output = Dense(1, activation='sigmoid')(merged)"
   ]
  },
  {
   "cell_type": "code",
   "execution_count": 15,
   "id": "a2706850-1b19-495c-aea0-7e2f8bf080c6",
   "metadata": {},
   "outputs": [],
   "source": [
    "# Define and compile the model\n",
    "model = Model(inputs=input_layer, outputs=output)\n",
    "model.compile(optimizer='adam', loss='binary_crossentropy', metrics=['accuracy'])"
   ]
  },
  {
   "cell_type": "code",
   "execution_count": 16,
   "id": "1fdd513e-ff35-4131-a6f0-f5650cf5254e",
   "metadata": {},
   "outputs": [
    {
     "data": {
      "text/html": [
       "<pre style=\"white-space:pre;overflow-x:auto;line-height:normal;font-family:Menlo,'DejaVu Sans Mono',consolas,'Courier New',monospace\"><span style=\"font-weight: bold\">Model: \"functional\"</span>\n",
       "</pre>\n"
      ],
      "text/plain": [
       "\u001b[1mModel: \"functional\"\u001b[0m\n"
      ]
     },
     "metadata": {},
     "output_type": "display_data"
    },
    {
     "data": {
      "text/html": [
       "<pre style=\"white-space:pre;overflow-x:auto;line-height:normal;font-family:Menlo,'DejaVu Sans Mono',consolas,'Courier New',monospace\">┏━━━━━━━━━━━━━━━━━━━━━━━━━━━━━━━┳━━━━━━━━━━━━━━━━━━━━━━━━━━━┳━━━━━━━━━━━━━━━━━┳━━━━━━━━━━━━━━━━━━━━━━━━━━━━┓\n",
       "┃<span style=\"font-weight: bold\"> Layer (type)                  </span>┃<span style=\"font-weight: bold\"> Output Shape              </span>┃<span style=\"font-weight: bold\">         Param # </span>┃<span style=\"font-weight: bold\"> Connected to               </span>┃\n",
       "┡━━━━━━━━━━━━━━━━━━━━━━━━━━━━━━━╇━━━━━━━━━━━━━━━━━━━━━━━━━━━╇━━━━━━━━━━━━━━━━━╇━━━━━━━━━━━━━━━━━━━━━━━━━━━━┩\n",
       "│ input_layer (<span style=\"color: #0087ff; text-decoration-color: #0087ff\">InputLayer</span>)      │ (<span style=\"color: #00d7ff; text-decoration-color: #00d7ff\">None</span>, <span style=\"color: #00af00; text-decoration-color: #00af00\">41</span>)                │               <span style=\"color: #00af00; text-decoration-color: #00af00\">0</span> │ -                          │\n",
       "├───────────────────────────────┼───────────────────────────┼─────────────────┼────────────────────────────┤\n",
       "│ dense (<span style=\"color: #0087ff; text-decoration-color: #0087ff\">Dense</span>)                 │ (<span style=\"color: #00d7ff; text-decoration-color: #00d7ff\">None</span>, <span style=\"color: #00af00; text-decoration-color: #00af00\">128</span>)               │           <span style=\"color: #00af00; text-decoration-color: #00af00\">5,376</span> │ input_layer[<span style=\"color: #00af00; text-decoration-color: #00af00\">0</span>][<span style=\"color: #00af00; text-decoration-color: #00af00\">0</span>]          │\n",
       "├───────────────────────────────┼───────────────────────────┼─────────────────┼────────────────────────────┤\n",
       "│ dense_2 (<span style=\"color: #0087ff; text-decoration-color: #0087ff\">Dense</span>)               │ (<span style=\"color: #00d7ff; text-decoration-color: #00d7ff\">None</span>, <span style=\"color: #00af00; text-decoration-color: #00af00\">64</span>)                │           <span style=\"color: #00af00; text-decoration-color: #00af00\">2,688</span> │ input_layer[<span style=\"color: #00af00; text-decoration-color: #00af00\">0</span>][<span style=\"color: #00af00; text-decoration-color: #00af00\">0</span>]          │\n",
       "├───────────────────────────────┼───────────────────────────┼─────────────────┼────────────────────────────┤\n",
       "│ dense_1 (<span style=\"color: #0087ff; text-decoration-color: #0087ff\">Dense</span>)               │ (<span style=\"color: #00d7ff; text-decoration-color: #00d7ff\">None</span>, <span style=\"color: #00af00; text-decoration-color: #00af00\">64</span>)                │           <span style=\"color: #00af00; text-decoration-color: #00af00\">8,256</span> │ dense[<span style=\"color: #00af00; text-decoration-color: #00af00\">0</span>][<span style=\"color: #00af00; text-decoration-color: #00af00\">0</span>]                │\n",
       "├───────────────────────────────┼───────────────────────────┼─────────────────┼────────────────────────────┤\n",
       "│ dense_3 (<span style=\"color: #0087ff; text-decoration-color: #0087ff\">Dense</span>)               │ (<span style=\"color: #00d7ff; text-decoration-color: #00d7ff\">None</span>, <span style=\"color: #00af00; text-decoration-color: #00af00\">32</span>)                │           <span style=\"color: #00af00; text-decoration-color: #00af00\">2,080</span> │ dense_2[<span style=\"color: #00af00; text-decoration-color: #00af00\">0</span>][<span style=\"color: #00af00; text-decoration-color: #00af00\">0</span>]              │\n",
       "├───────────────────────────────┼───────────────────────────┼─────────────────┼────────────────────────────┤\n",
       "│ concatenate (<span style=\"color: #0087ff; text-decoration-color: #0087ff\">Concatenate</span>)     │ (<span style=\"color: #00d7ff; text-decoration-color: #00d7ff\">None</span>, <span style=\"color: #00af00; text-decoration-color: #00af00\">96</span>)                │               <span style=\"color: #00af00; text-decoration-color: #00af00\">0</span> │ dense_1[<span style=\"color: #00af00; text-decoration-color: #00af00\">0</span>][<span style=\"color: #00af00; text-decoration-color: #00af00\">0</span>],             │\n",
       "│                               │                           │                 │ dense_3[<span style=\"color: #00af00; text-decoration-color: #00af00\">0</span>][<span style=\"color: #00af00; text-decoration-color: #00af00\">0</span>]              │\n",
       "├───────────────────────────────┼───────────────────────────┼─────────────────┼────────────────────────────┤\n",
       "│ dense_4 (<span style=\"color: #0087ff; text-decoration-color: #0087ff\">Dense</span>)               │ (<span style=\"color: #00d7ff; text-decoration-color: #00d7ff\">None</span>, <span style=\"color: #00af00; text-decoration-color: #00af00\">1</span>)                 │              <span style=\"color: #00af00; text-decoration-color: #00af00\">97</span> │ concatenate[<span style=\"color: #00af00; text-decoration-color: #00af00\">0</span>][<span style=\"color: #00af00; text-decoration-color: #00af00\">0</span>]          │\n",
       "└───────────────────────────────┴───────────────────────────┴─────────────────┴────────────────────────────┘\n",
       "</pre>\n"
      ],
      "text/plain": [
       "┏━━━━━━━━━━━━━━━━━━━━━━━━━━━━━━━┳━━━━━━━━━━━━━━━━━━━━━━━━━━━┳━━━━━━━━━━━━━━━━━┳━━━━━━━━━━━━━━━━━━━━━━━━━━━━┓\n",
       "┃\u001b[1m \u001b[0m\u001b[1mLayer (type)                 \u001b[0m\u001b[1m \u001b[0m┃\u001b[1m \u001b[0m\u001b[1mOutput Shape             \u001b[0m\u001b[1m \u001b[0m┃\u001b[1m \u001b[0m\u001b[1m        Param #\u001b[0m\u001b[1m \u001b[0m┃\u001b[1m \u001b[0m\u001b[1mConnected to              \u001b[0m\u001b[1m \u001b[0m┃\n",
       "┡━━━━━━━━━━━━━━━━━━━━━━━━━━━━━━━╇━━━━━━━━━━━━━━━━━━━━━━━━━━━╇━━━━━━━━━━━━━━━━━╇━━━━━━━━━━━━━━━━━━━━━━━━━━━━┩\n",
       "│ input_layer (\u001b[38;5;33mInputLayer\u001b[0m)      │ (\u001b[38;5;45mNone\u001b[0m, \u001b[38;5;34m41\u001b[0m)                │               \u001b[38;5;34m0\u001b[0m │ -                          │\n",
       "├───────────────────────────────┼───────────────────────────┼─────────────────┼────────────────────────────┤\n",
       "│ dense (\u001b[38;5;33mDense\u001b[0m)                 │ (\u001b[38;5;45mNone\u001b[0m, \u001b[38;5;34m128\u001b[0m)               │           \u001b[38;5;34m5,376\u001b[0m │ input_layer[\u001b[38;5;34m0\u001b[0m][\u001b[38;5;34m0\u001b[0m]          │\n",
       "├───────────────────────────────┼───────────────────────────┼─────────────────┼────────────────────────────┤\n",
       "│ dense_2 (\u001b[38;5;33mDense\u001b[0m)               │ (\u001b[38;5;45mNone\u001b[0m, \u001b[38;5;34m64\u001b[0m)                │           \u001b[38;5;34m2,688\u001b[0m │ input_layer[\u001b[38;5;34m0\u001b[0m][\u001b[38;5;34m0\u001b[0m]          │\n",
       "├───────────────────────────────┼───────────────────────────┼─────────────────┼────────────────────────────┤\n",
       "│ dense_1 (\u001b[38;5;33mDense\u001b[0m)               │ (\u001b[38;5;45mNone\u001b[0m, \u001b[38;5;34m64\u001b[0m)                │           \u001b[38;5;34m8,256\u001b[0m │ dense[\u001b[38;5;34m0\u001b[0m][\u001b[38;5;34m0\u001b[0m]                │\n",
       "├───────────────────────────────┼───────────────────────────┼─────────────────┼────────────────────────────┤\n",
       "│ dense_3 (\u001b[38;5;33mDense\u001b[0m)               │ (\u001b[38;5;45mNone\u001b[0m, \u001b[38;5;34m32\u001b[0m)                │           \u001b[38;5;34m2,080\u001b[0m │ dense_2[\u001b[38;5;34m0\u001b[0m][\u001b[38;5;34m0\u001b[0m]              │\n",
       "├───────────────────────────────┼───────────────────────────┼─────────────────┼────────────────────────────┤\n",
       "│ concatenate (\u001b[38;5;33mConcatenate\u001b[0m)     │ (\u001b[38;5;45mNone\u001b[0m, \u001b[38;5;34m96\u001b[0m)                │               \u001b[38;5;34m0\u001b[0m │ dense_1[\u001b[38;5;34m0\u001b[0m][\u001b[38;5;34m0\u001b[0m],             │\n",
       "│                               │                           │                 │ dense_3[\u001b[38;5;34m0\u001b[0m][\u001b[38;5;34m0\u001b[0m]              │\n",
       "├───────────────────────────────┼───────────────────────────┼─────────────────┼────────────────────────────┤\n",
       "│ dense_4 (\u001b[38;5;33mDense\u001b[0m)               │ (\u001b[38;5;45mNone\u001b[0m, \u001b[38;5;34m1\u001b[0m)                 │              \u001b[38;5;34m97\u001b[0m │ concatenate[\u001b[38;5;34m0\u001b[0m][\u001b[38;5;34m0\u001b[0m]          │\n",
       "└───────────────────────────────┴───────────────────────────┴─────────────────┴────────────────────────────┘\n"
      ]
     },
     "metadata": {},
     "output_type": "display_data"
    },
    {
     "data": {
      "text/html": [
       "<pre style=\"white-space:pre;overflow-x:auto;line-height:normal;font-family:Menlo,'DejaVu Sans Mono',consolas,'Courier New',monospace\"><span style=\"font-weight: bold\"> Total params: </span><span style=\"color: #00af00; text-decoration-color: #00af00\">18,497</span> (72.25 KB)\n",
       "</pre>\n"
      ],
      "text/plain": [
       "\u001b[1m Total params: \u001b[0m\u001b[38;5;34m18,497\u001b[0m (72.25 KB)\n"
      ]
     },
     "metadata": {},
     "output_type": "display_data"
    },
    {
     "data": {
      "text/html": [
       "<pre style=\"white-space:pre;overflow-x:auto;line-height:normal;font-family:Menlo,'DejaVu Sans Mono',consolas,'Courier New',monospace\"><span style=\"font-weight: bold\"> Trainable params: </span><span style=\"color: #00af00; text-decoration-color: #00af00\">18,497</span> (72.25 KB)\n",
       "</pre>\n"
      ],
      "text/plain": [
       "\u001b[1m Trainable params: \u001b[0m\u001b[38;5;34m18,497\u001b[0m (72.25 KB)\n"
      ]
     },
     "metadata": {},
     "output_type": "display_data"
    },
    {
     "data": {
      "text/html": [
       "<pre style=\"white-space:pre;overflow-x:auto;line-height:normal;font-family:Menlo,'DejaVu Sans Mono',consolas,'Courier New',monospace\"><span style=\"font-weight: bold\"> Non-trainable params: </span><span style=\"color: #00af00; text-decoration-color: #00af00\">0</span> (0.00 B)\n",
       "</pre>\n"
      ],
      "text/plain": [
       "\u001b[1m Non-trainable params: \u001b[0m\u001b[38;5;34m0\u001b[0m (0.00 B)\n"
      ]
     },
     "metadata": {},
     "output_type": "display_data"
    }
   ],
   "source": [
    "model.summary()"
   ]
  },
  {
   "cell_type": "markdown",
   "id": "c64d7d4e-73cd-4328-991b-7c5a51e3d9e0",
   "metadata": {},
   "source": [
    "## ✅ Step 3: Model Training\n",
    "\n",
    "### 🎯 Objective:\n",
    "Train the model on preprocessed data and observe learning behavior.\n",
    "\n",
    "### 📈 Configuration:\n",
    "- Epochs: 10\n",
    "- Batch Size: 64\n",
    "- Validation Split: 20%"
   ]
  },
  {
   "cell_type": "code",
   "execution_count": 17,
   "id": "c8c329c7-b226-4e1c-a410-97fbd6431719",
   "metadata": {},
   "outputs": [
    {
     "name": "stdout",
     "output_type": "stream",
     "text": [
      "Epoch 1/10\n",
      "\u001b[1m1575/1575\u001b[0m \u001b[32m━━━━━━━━━━━━━━━━━━━━\u001b[0m\u001b[37m\u001b[0m \u001b[1m11s\u001b[0m 5ms/step - accuracy: 0.9728 - loss: 0.0830 - val_accuracy: 0.9929 - val_loss: 0.0247\n",
      "Epoch 2/10\n",
      "\u001b[1m1575/1575\u001b[0m \u001b[32m━━━━━━━━━━━━━━━━━━━━\u001b[0m\u001b[37m\u001b[0m \u001b[1m7s\u001b[0m 4ms/step - accuracy: 0.9906 - loss: 0.0286 - val_accuracy: 0.9909 - val_loss: 0.0244\n",
      "Epoch 3/10\n",
      "\u001b[1m1575/1575\u001b[0m \u001b[32m━━━━━━━━━━━━━━━━━━━━\u001b[0m\u001b[37m\u001b[0m \u001b[1m7s\u001b[0m 4ms/step - accuracy: 0.9928 - loss: 0.0232 - val_accuracy: 0.9945 - val_loss: 0.0185\n",
      "Epoch 4/10\n",
      "\u001b[1m1575/1575\u001b[0m \u001b[32m━━━━━━━━━━━━━━━━━━━━\u001b[0m\u001b[37m\u001b[0m \u001b[1m7s\u001b[0m 5ms/step - accuracy: 0.9937 - loss: 0.0193 - val_accuracy: 0.9945 - val_loss: 0.0191\n",
      "Epoch 5/10\n",
      "\u001b[1m1575/1575\u001b[0m \u001b[32m━━━━━━━━━━━━━━━━━━━━\u001b[0m\u001b[37m\u001b[0m \u001b[1m6s\u001b[0m 4ms/step - accuracy: 0.9946 - loss: 0.0167 - val_accuracy: 0.9950 - val_loss: 0.0190\n",
      "Epoch 6/10\n",
      "\u001b[1m1575/1575\u001b[0m \u001b[32m━━━━━━━━━━━━━━━━━━━━\u001b[0m\u001b[37m\u001b[0m \u001b[1m7s\u001b[0m 4ms/step - accuracy: 0.9947 - loss: 0.0153 - val_accuracy: 0.9952 - val_loss: 0.0181\n",
      "Epoch 7/10\n",
      "\u001b[1m1575/1575\u001b[0m \u001b[32m━━━━━━━━━━━━━━━━━━━━\u001b[0m\u001b[37m\u001b[0m \u001b[1m7s\u001b[0m 4ms/step - accuracy: 0.9959 - loss: 0.0139 - val_accuracy: 0.9953 - val_loss: 0.0152\n",
      "Epoch 8/10\n",
      "\u001b[1m1575/1575\u001b[0m \u001b[32m━━━━━━━━━━━━━━━━━━━━\u001b[0m\u001b[37m\u001b[0m \u001b[1m7s\u001b[0m 4ms/step - accuracy: 0.9959 - loss: 0.0119 - val_accuracy: 0.9956 - val_loss: 0.0149\n",
      "Epoch 9/10\n",
      "\u001b[1m1575/1575\u001b[0m \u001b[32m━━━━━━━━━━━━━━━━━━━━\u001b[0m\u001b[37m\u001b[0m \u001b[1m6s\u001b[0m 4ms/step - accuracy: 0.9958 - loss: 0.0118 - val_accuracy: 0.9956 - val_loss: 0.0145\n",
      "Epoch 10/10\n",
      "\u001b[1m1575/1575\u001b[0m \u001b[32m━━━━━━━━━━━━━━━━━━━━\u001b[0m\u001b[37m\u001b[0m \u001b[1m7s\u001b[0m 4ms/step - accuracy: 0.9961 - loss: 0.0109 - val_accuracy: 0.9956 - val_loss: 0.0139\n"
     ]
    }
   ],
   "source": [
    "history = model.fit(\n",
    "    X_train_scaled, y_train,\n",
    "    epochs=10,\n",
    "    batch_size=64,\n",
    "    validation_split=0.2,\n",
    "    verbose=1\n",
    ")"
   ]
  },
  {
   "cell_type": "markdown",
   "id": "55c2d690-6f09-4589-9dfd-5b314ffcb474",
   "metadata": {},
   "source": [
    "### 📊 Visual Trends:\n",
    "- **Accuracy**: Consistent upward trend for both training and validation.\n",
    "- **Loss**: Smooth decrease, indicating strong learning without overfitting during training."
   ]
  },
  {
   "cell_type": "code",
   "execution_count": 20,
   "id": "91a22ff7-3353-4098-9837-d7b1f96c53bb",
   "metadata": {},
   "outputs": [
    {
     "data": {
      "image/png": "[encoded data removed]",
      "text/plain": [
       "<Figure size 640x480 with 1 Axes>"
      ]
     },
     "metadata": {},
     "output_type": "display_data"
    }
   ],
   "source": [
    "# Accuracy\n",
    "plt.plot(history.history['accuracy'], label='Train')\n",
    "plt.plot(history.history['val_accuracy'], label='Validation')\n",
    "plt.title('Model Accuracy')\n",
    "plt.ylabel('Accuracy')\n",
    "plt.xlabel('Epoch')\n",
    "plt.legend()\n",
    "plt.show()"
   ]
  },
  {
   "cell_type": "code",
   "execution_count": 21,
   "id": "6a6e70e3-4684-4a75-8235-f185c0a42ca9",
   "metadata": {},
   "outputs": [
    {
     "data": {
      "image/png": "[encoded data removed]",
      "text/plain": [
       "<Figure size 640x480 with 1 Axes>"
      ]
     },
     "metadata": {},
     "output_type": "display_data"
    }
   ],
   "source": [
    "# Loss\n",
    "plt.plot(history.history['loss'], label='Train')\n",
    "plt.plot(history.history['val_loss'], label='Validation')\n",
    "plt.title('Model Loss')\n",
    "plt.ylabel('Loss')\n",
    "plt.xlabel('Epoch')\n",
    "plt.legend()\n",
    "plt.show()"
   ]
  },
  {
   "cell_type": "code",
   "execution_count": 19,
   "id": "40c12b79-587b-4a30-ac1d-0e7001ffd349",
   "metadata": {},
   "outputs": [],
   "source": [
    "# Scale test features using the same scaler as training\n",
    "X_test_scaled = scaler.transform(X_test)"
   ]
  },
  {
   "cell_type": "code",
   "execution_count": 18,
   "id": "faefc5d7-1b09-4eaa-a68e-fbb13a0dbc45",
   "metadata": {},
   "outputs": [
    {
     "name": "stdout",
     "output_type": "stream",
     "text": [
      "\u001b[1m705/705\u001b[0m \u001b[32m━━━━━━━━━━━━━━━━━━━━\u001b[0m\u001b[37m\u001b[0m \u001b[1m2s\u001b[0m 3ms/step - accuracy: 0.8113 - loss: 1.0478\n",
      "Test Accuracy: 0.8073\n",
      "Test Loss: 1.1124\n"
     ]
    }
   ],
   "source": [
    "loss, accuracy = model.evaluate(X_test_scaled, y_test, verbose=1)\n",
    "print(f'Test Accuracy: {accuracy:.4f}')\n",
    "print(f'Test Loss: {loss:.4f}')"
   ]
  },
  {
   "cell_type": "code",
   "execution_count": 19,
   "id": "237e85ef-48e9-4a62-9c52-a395c6d66ecb",
   "metadata": {},
   "outputs": [
    {
     "name": "stdout",
     "output_type": "stream",
     "text": [
      "\u001b[1m705/705\u001b[0m \u001b[32m━━━━━━━━━━━━━━━━━━━━\u001b[0m\u001b[37m\u001b[0m \u001b[1m2s\u001b[0m 2ms/step\n"
     ]
    }
   ],
   "source": [
    "y_pred_prob = model.predict(X_test_scaled)\n",
    "y_pred = (y_pred_prob > 0.5).astype(\"int32\")"
   ]
  },
  {
   "cell_type": "markdown",
   "id": "944dcd6f-26ae-41cb-b786-4dac7c555a43",
   "metadata": {},
   "source": [
    "## ✅ Step 4: Model Evaluation on Test Data\n",
    "\n",
    "### 🎯 Objective:\n",
    "Assess how well the trained model performs on unseen test data.\n",
    "\n",
    "### 📊 Classification Report:"
   ]
  },
  {
   "cell_type": "code",
   "execution_count": 21,
   "id": "90a361c7-2581-4101-a215-8d096a19d30f",
   "metadata": {},
   "outputs": [
    {
     "name": "stdout",
     "output_type": "stream",
     "text": [
      "              precision    recall  f1-score   support\n",
      "\n",
      "           0       0.70      0.97      0.81      9711\n",
      "           1       0.97      0.68      0.80     12833\n",
      "\n",
      "    accuracy                           0.81     22544\n",
      "   macro avg       0.83      0.83      0.81     22544\n",
      "weighted avg       0.85      0.81      0.81     22544\n",
      "\n"
     ]
    }
   ],
   "source": [
    "print(classification_report(y_test, y_pred))"
   ]
  },
  {
   "cell_type": "code",
   "execution_count": 22,
   "id": "29048266-c8bc-4768-af05-4dec7e9b0b2b",
   "metadata": {},
   "outputs": [
    {
     "data": {
      "image/png": "[encoded data removed]",
      "text/plain": [
       "<Figure size 640x480 with 2 Axes>"
      ]
     },
     "metadata": {},
     "output_type": "display_data"
    }
   ],
   "source": [
    "from sklearn.metrics import confusion_matrix\n",
    "import seaborn as sns\n",
    "import matplotlib.pyplot as plt\n",
    "\n",
    "cm = confusion_matrix(y_test, y_pred)\n",
    "sns.heatmap(cm, annot=True, fmt='d', cmap='Blues')\n",
    "plt.xlabel(\"Predicted\")\n",
    "plt.ylabel(\"Actual\")\n",
    "plt.title(\"Confusion Matrix\")\n",
    "plt.show()"
   ]
  },
  {
   "cell_type": "markdown",
   "id": "c90194ce-a722-4a6e-8470-bae43b2d573d",
   "metadata": {},
   "source": [
    "### 📌 Insights:\n",
    "- **Overall accuracy**: 81%\n",
    "- **Normal traffic (Class 0)**:\n",
    "  - High recall (0.97) → Very few false negatives for benign data\n",
    "  - Lower precision (0.70) → Some attacks misclassified as normal\n",
    "- **Attack traffic (Class 1)**:\n",
    "  - Very high precision (0.97) → Rarely mislabels normal as attack\n",
    "  - Recall is lower (0.68) → Many attacks go undetected\n",
    "\n",
    "\n",
    "## 🔚 Final Conclusion\n",
    "\n",
    "The hybrid DNN + MLP model showed exceptional performance during training and validation, achieving over **99.5% accuracy**. However, on real-world test data:\n",
    "\n",
    "- Performance **drops to 81% accuracy**, signaling overfitting.\n",
    "- The model is **biased toward normal traffic**, with high false negatives for attacks — dangerous in security contexts.\n",
    "- Model precision is excellent for attack detection, but recall must be improved.\n",
    "\n",
    "### 🔄 Recommendations:\n",
    "- Add **dropout, regularization**, or **early stopping** to reduce overfitting.\n",
    "- Try **class weighting** or **SMOTE** to address class imbalance.\n",
    "- Evaluate using **confusion matrix** and **ROC AUC**.\n",
    "- Consider using **ensemble models** or **LSTM/GRU** architectures for temporal patterns.\n",
    "\n",
    "📌 *The current model is a strong start but must be tuned further for deployment in real-world intrusion detection systems.*\n",
    "Let us start fixing these specific weaknesses."
   ]
  },
  {
   "cell_type": "markdown",
   "id": "d416c1a8-b4dc-4afe-8b72-57c726717f33",
   "metadata": {},
   "source": [
    "## 🔧 Fixing Model Weaknesses: Overfitting, Imbalance, and Recall\n",
    "\n",
    "After training the initial hybrid DNN + MLP model, we observed the following issues on real-world test data:\n",
    "\n",
    "### ⚠️ Problems Identified:\n",
    "1. **Overfitting** – Training accuracy was ~99.5%, while test accuracy dropped to ~81%.\n",
    "2. **Class Imbalance** – The model favored \"normal\" traffic, achieving high recall for class 0 but lower recall for class 1 (attacks).\n",
    "3. **Low Recall for Attacks (Class 1)** – Many attacks were missed despite high precision.\n",
    "\n",
    "---\n",
    "\n",
    "## ✅ Fix 1: Add Dropout + EarlyStopping\n",
    "\n",
    "**Goal:** Reduce overfitting by preventing the model from memorizing the training data.\n",
    "\n",
    "- **Dropout Layers:** Randomly disables neurons during training to improve generalization.\n",
    "- **EarlyStopping:** Automatically stops training when validation loss stops improving.\n",
    "\n",
    "```python\n",
    "from tensorflow.keras.layers import Dropout\n",
    "from tensorflow.keras.callbacks import EarlyStopping\n",
    "\n",
    "# Added dropout after each Dense layer in both DNN and MLP branches\n",
    "# Used EarlyStopping to restore the best validation weights"
   ]
  },
  {
   "cell_type": "code",
   "execution_count": 52,
   "id": "5e29feb2-9feb-40fd-a051-f9bb2588b910",
   "metadata": {},
   "outputs": [
    {
     "name": "stdout",
     "output_type": "stream",
     "text": [
      "Epoch 1/30\n",
      "\u001b[1m1575/1575\u001b[0m \u001b[32m━━━━━━━━━━━━━━━━━━━━\u001b[0m\u001b[37m\u001b[0m \u001b[1m11s\u001b[0m 5ms/step - accuracy: 0.9615 - loss: 0.1115 - val_accuracy: 0.9909 - val_loss: 0.0321\n",
      "Epoch 2/30\n",
      "\u001b[1m1575/1575\u001b[0m \u001b[32m━━━━━━━━━━━━━━━━━━━━\u001b[0m\u001b[37m\u001b[0m \u001b[1m7s\u001b[0m 5ms/step - accuracy: 0.9878 - loss: 0.0377 - val_accuracy: 0.9917 - val_loss: 0.0261\n",
      "Epoch 3/30\n",
      "\u001b[1m1575/1575\u001b[0m \u001b[32m━━━━━━━━━━━━━━━━━━━━\u001b[0m\u001b[37m\u001b[0m \u001b[1m7s\u001b[0m 5ms/step - accuracy: 0.9901 - loss: 0.0300 - val_accuracy: 0.9914 - val_loss: 0.0245\n",
      "Epoch 4/30\n",
      "\u001b[1m1575/1575\u001b[0m \u001b[32m━━━━━━━━━━━━━━━━━━━━\u001b[0m\u001b[37m\u001b[0m \u001b[1m7s\u001b[0m 4ms/step - accuracy: 0.9904 - loss: 0.0260 - val_accuracy: 0.9922 - val_loss: 0.0217\n",
      "Epoch 5/30\n",
      "\u001b[1m1575/1575\u001b[0m \u001b[32m━━━━━━━━━━━━━━━━━━━━\u001b[0m\u001b[37m\u001b[0m \u001b[1m8s\u001b[0m 5ms/step - accuracy: 0.9914 - loss: 0.0258 - val_accuracy: 0.9918 - val_loss: 0.0233\n",
      "Epoch 6/30\n",
      "\u001b[1m1575/1575\u001b[0m \u001b[32m━━━━━━━━━━━━━━━━━━━━\u001b[0m\u001b[37m\u001b[0m \u001b[1m7s\u001b[0m 5ms/step - accuracy: 0.9922 - loss: 0.0208 - val_accuracy: 0.9948 - val_loss: 0.0189\n",
      "Epoch 7/30\n",
      "\u001b[1m1575/1575\u001b[0m \u001b[32m━━━━━━━━━━━━━━━━━━━━\u001b[0m\u001b[37m\u001b[0m \u001b[1m7s\u001b[0m 4ms/step - accuracy: 0.9921 - loss: 0.0217 - val_accuracy: 0.9935 - val_loss: 0.0198\n",
      "Epoch 8/30\n",
      "\u001b[1m1575/1575\u001b[0m \u001b[32m━━━━━━━━━━━━━━━━━━━━\u001b[0m\u001b[37m\u001b[0m \u001b[1m7s\u001b[0m 5ms/step - accuracy: 0.9930 - loss: 0.0199 - val_accuracy: 0.9951 - val_loss: 0.0172\n",
      "Epoch 9/30\n",
      "\u001b[1m1575/1575\u001b[0m \u001b[32m━━━━━━━━━━━━━━━━━━━━\u001b[0m\u001b[37m\u001b[0m \u001b[1m7s\u001b[0m 5ms/step - accuracy: 0.9936 - loss: 0.0188 - val_accuracy: 0.9938 - val_loss: 0.0189\n",
      "Epoch 10/30\n",
      "\u001b[1m1575/1575\u001b[0m \u001b[32m━━━━━━━━━━━━━━━━━━━━\u001b[0m\u001b[37m\u001b[0m \u001b[1m7s\u001b[0m 5ms/step - accuracy: 0.9938 - loss: 0.0170 - val_accuracy: 0.9948 - val_loss: 0.0179\n",
      "Epoch 11/30\n",
      "\u001b[1m1575/1575\u001b[0m \u001b[32m━━━━━━━━━━━━━━━━━━━━\u001b[0m\u001b[37m\u001b[0m \u001b[1m7s\u001b[0m 5ms/step - accuracy: 0.9935 - loss: 0.0191 - val_accuracy: 0.9945 - val_loss: 0.0188\n"
     ]
    }
   ],
   "source": [
    "# Branch 1: DNN\n",
    "dnn = Dense(128, activation='relu')(input_layer)\n",
    "dnn = Dropout(0.3)(dnn)\n",
    "dnn = Dense(64, activation='relu')(dnn)\n",
    "dnn = Dropout(0.3)(dnn)\n",
    "\n",
    "# Branch 2: MLP\n",
    "mlp = Dense(64, activation='relu')(input_layer)\n",
    "mlp = Dropout(0.3)(mlp)\n",
    "mlp = Dense(32, activation='relu')(mlp)\n",
    "mlp = Dropout(0.3)(mlp)\n",
    "\n",
    "# Continue as before\n",
    "merged = Concatenate()([dnn, mlp])\n",
    "output = Dense(1, activation='sigmoid')(merged)\n",
    "model = Model(inputs=input_layer, outputs=output)\n",
    "model.compile(optimizer='adam', loss='binary_crossentropy', metrics=['accuracy'])\n",
    "\n",
    "# Add early stopping\n",
    "early_stop = EarlyStopping(monitor='val_loss', patience=3, restore_best_weights=True)\n",
    "\n",
    "# Train the model\n",
    "history = model.fit(\n",
    "    X_train_scaled, y_train,\n",
    "    epochs=30,\n",
    "    batch_size=64,\n",
    "    validation_split=0.2,\n",
    "    callbacks=[early_stop],\n",
    "    verbose=1\n",
    ")"
   ]
  },
  {
   "cell_type": "code",
   "execution_count": 43,
   "id": "db68ea74-48bb-4180-b72b-9c0b26bbf235",
   "metadata": {},
   "outputs": [
    {
     "name": "stdout",
     "output_type": "stream",
     "text": [
      "\u001b[1m705/705\u001b[0m \u001b[32m━━━━━━━━━━━━━━━━━━━━\u001b[0m\u001b[37m\u001b[0m \u001b[1m2s\u001b[0m 3ms/step - accuracy: 0.7898 - loss: 1.3478\n",
      "Test Accuracy: 0.7855\n",
      "\u001b[1m705/705\u001b[0m \u001b[32m━━━━━━━━━━━━━━━━━━━━\u001b[0m\u001b[37m\u001b[0m \u001b[1m2s\u001b[0m 2ms/step\n",
      "              precision    recall  f1-score   support\n",
      "\n",
      "           0       0.67      0.98      0.80      9711\n",
      "           1       0.97      0.64      0.77     12833\n",
      "\n",
      "    accuracy                           0.79     22544\n",
      "   macro avg       0.82      0.81      0.78     22544\n",
      "weighted avg       0.84      0.79      0.78     22544\n",
      "\n"
     ]
    }
   ],
   "source": [
    "loss, accuracy = model.evaluate(X_test_scaled, y_test)\n",
    "print(f\"Test Accuracy: {accuracy:.4f}\")\n",
    "print(classification_report(y_test, (model.predict(X_test_scaled) > 0.5).astype(\"int32\")))"
   ]
  },
  {
   "cell_type": "code",
   "execution_count": null,
   "id": "b7dfca6f-bf5b-4727-8fe6-323b61385cfe",
   "metadata": {},
   "outputs": [
    {
     "name": "stdout",
     "output_type": "stream",
     "text": [
      "Epoch 1/30\n",
      "\u001b[1m 894/1575\u001b[0m \u001b[32m━━━━━━━━━━━\u001b[0m\u001b[37m━━━━━━━━━\u001b[0m \u001b[1m2s\u001b[0m 4ms/step - accuracy: 0.9932 - loss: 0.0189"
     ]
    }
   ],
   "source": [
    "class_weights = compute_class_weight(\n",
    "    class_weight='balanced',\n",
    "    classes=np.unique(y_train),\n",
    "    y=y_train\n",
    ")\n",
    "class_weights = dict(enumerate(class_weights))\n",
    "\n",
    "model.fit(\n",
    "    X_train_scaled, y_train,\n",
    "    epochs=30,\n",
    "    batch_size=64,\n",
    "    validation_split=0.2,\n",
    "    callbacks=[early_stop],\n",
    "    class_weight=class_weights,\n",
    "    verbose=1\n",
    ")"
   ]
  },
  {
   "cell_type": "code",
   "execution_count": 46,
   "id": "d6f389ff-bb95-4f0b-b998-f6d7dcf792d5",
   "metadata": {},
   "outputs": [
    {
     "name": "stdout",
     "output_type": "stream",
     "text": [
      "\u001b[1m705/705\u001b[0m \u001b[32m━━━━━━━━━━━━━━━━━━━━\u001b[0m\u001b[37m\u001b[0m \u001b[1m1s\u001b[0m 2ms/step\n",
      "              precision    recall  f1-score   support\n",
      "\n",
      "           0       0.68      0.97      0.80      9711\n",
      "           1       0.97      0.65      0.78     12833\n",
      "\n",
      "    accuracy                           0.79     22544\n",
      "   macro avg       0.82      0.81      0.79     22544\n",
      "weighted avg       0.84      0.79      0.79     22544\n",
      "\n"
     ]
    }
   ],
   "source": [
    "# Instead of default 0.5, try:\n",
    "y_pred = (model.predict(X_test_scaled) > 0.4).astype(\"int32\")\n",
    "print(classification_report(y_test, y_pred))"
   ]
  },
  {
   "cell_type": "code",
   "execution_count": 47,
   "id": "3b9e741a-4480-4e3f-846a-4af540d5cf1a",
   "metadata": {},
   "outputs": [
    {
     "name": "stdout",
     "output_type": "stream",
     "text": [
      "              precision    recall  f1-score   support\n",
      "\n",
      "           0       0.68      0.97      0.80      9711\n",
      "           1       0.97      0.65      0.78     12833\n",
      "\n",
      "    accuracy                           0.79     22544\n",
      "   macro avg       0.82      0.81      0.79     22544\n",
      "weighted avg       0.84      0.79      0.79     22544\n",
      "\n"
     ]
    }
   ],
   "source": [
    "print(classification_report(y_test, y_pred))"
   ]
  },
  {
   "cell_type": "code",
   "execution_count": 48,
   "id": "e54de2d6-4368-4011-b451-f48df0b1cfdc",
   "metadata": {},
   "outputs": [
    {
     "name": "stdout",
     "output_type": "stream",
     "text": [
      "\u001b[1m705/705\u001b[0m \u001b[32m━━━━━━━━━━━━━━━━━━━━\u001b[0m\u001b[37m\u001b[0m \u001b[1m1s\u001b[0m 2ms/step\n"
     ]
    }
   ],
   "source": [
    "y_pred = (model.predict(X_test_scaled) > 0.4).astype(\"int32\")"
   ]
  },
  {
   "cell_type": "markdown",
   "id": "0a5a15f8-a8bd-4647-94d5-4741b0f7c0b1",
   "metadata": {},
   "source": [
    "# 🔐 Final Report: Intrusion Detection System Using Hybrid DNN + MLP\n",
    "\n",
    "This project implements a deep learning-based Intrusion Detection System (IDS) using a hybrid model combining a Deep Neural Network (DNN) and a Multi-Layer Perceptron (MLP), trained and evaluated on the NSL-KDD dataset.\n",
    "\n",
    "---\n",
    "\n",
    "## ✅ Step-by-Step Process Summary\n",
    "\n",
    "### 1. **Data Preprocessing**\n",
    "- Loaded and cleaned NSL-KDD dataset (`KDDTrain+` and `KDDTest+`)\n",
    "- Removed unnecessary `difficulty` column\n",
    "- Converted multi-class labels to binary:  \n",
    "  - `normal` → 0  \n",
    "  - attack types → 1\n",
    "- Label-encoded categorical features (`protocol_type`, `service`, `flag`)\n",
    "- Standardized features using `StandardScaler`\n",
    "\n",
    "---\n",
    "\n",
    "### 2. **Model Architecture – Hybrid DNN + MLP**\n",
    "- Input: 41 network features\n",
    "- **DNN Branch:**  \n",
    "  - Dense(128) → Dropout → Dense(64) → Dropout\n",
    "- **MLP Branch:**  \n",
    "  - Dense(64) → Dropout → Dense(32) → Dropout\n",
    "- Merged both branches using `Concatenate`\n",
    "- Output Layer: `Dense(1, activation='sigmoid')`\n",
    "\n",
    "---\n",
    "\n",
    "### 3. **Training**\n",
    "- Optimizer: `Adam`\n",
    "- Loss: `Binary Crossentropy`\n",
    "- Batch size: 64\n",
    "- Validation split: 20%\n",
    "- Added `Dropout` and `EarlyStopping` to reduce overfitting\n",
    "- Applied **class weighting** to balance learning for rare attacks\n",
    "\n",
    "---\n",
    "\n",
    "### 4. **Evaluation (Post-Enhancements)**\n",
    "\n",
    "```text\n",
    "              precision    recall  f1-score   support\n",
    "\n",
    "           0       0.68      0.97      0.80      9711\n",
    "           1       0.97      0.65      0.78     12833\n",
    "\n",
    "    accuracy                           0.79     22544\n",
    "   macro avg       0.82      0.81      0.79     22544\n",
    "weighted avg       0.84      0.79      0.79     22544"
   ]
  },
  {
   "cell_type": "code",
   "execution_count": null,
   "id": "29503c71-cc11-4ecd-89d3-40b5df540ff0",
   "metadata": {},
   "outputs": [],
   "source": []
  }
 ],
 "metadata": {
  "kernelspec": {
   "display_name": "Python 3 (ipykernel)",
   "language": "python",
   "name": "python3"
  },
  "language_info": {
   "codemirror_mode": {
    "name": "ipython",
    "version": 3
   },
   "file_extension": ".py",
   "mimetype": "text/x-python",
   "name": "python",
   "nbconvert_exporter": "python",
   "pygments_lexer": "ipython3",
   "version": "3.12.7"
  }
 },
 "nbformat": 4,
 "nbformat_minor": 5
}
